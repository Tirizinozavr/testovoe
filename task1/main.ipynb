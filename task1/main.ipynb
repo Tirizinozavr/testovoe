version https://git-lfs.github.com/spec/v1
oid sha256:ee0a529e99c1f3d68e3e6edd6f77acc0231e882976abbf8b68413b85d4bde3ee
size 60812
