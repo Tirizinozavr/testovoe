version https://git-lfs.github.com/spec/v1
oid sha256:87f91f47f0fcd8cbe537748de3b9daa5c254a8a1fe112c0cbfe7bbbda2bed55e
size 202420266
